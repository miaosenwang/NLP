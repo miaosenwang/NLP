{
 "cells": [
  {
   "cell_type": "code",
   "execution_count": 1,
   "metadata": {
    "collapsed": false
   },
   "outputs": [
    {
     "name": "stderr",
     "output_type": "stream",
     "text": [
      "Using TensorFlow backend.\n"
     ]
    }
   ],
   "source": [
    "from keras.preprocessing.text import Tokenizer\n",
    "from keras.preprocessing.sequence import pad_sequences\n",
    "from keras.layers import Dense, Input\n",
    "from keras.layers import Embedding, LSTM\n",
    "from keras.models import Sequential\n",
    "\n",
    "import numpy as np\n",
    "import csv"
   ]
  },
  {
   "cell_type": "code",
   "execution_count": 2,
   "metadata": {
    "collapsed": false
   },
   "outputs": [],
   "source": [
    "GLOVE_PATH = ''\n",
    "TRAIN_DATA_PATH = ''\n",
    "\n",
    "SENTENCE_LENGTH = 100\n",
    "EMBEDDING_DIM = 50\n",
    "TEST_SPLIT = 0.2\n",
    "\n",
    "VOCAB_SIZE = 1000"
   ]
  },
  {
   "cell_type": "code",
   "execution_count": 3,
   "metadata": {
    "collapsed": true
   },
   "outputs": [],
   "source": [
    "def loadGlove(path):\n",
    "    embeddings_index = {}\n",
    "    with open(path, \"r\", encoding=\"utf8\") as glovef:\n",
    "        for line in glovef:\n",
    "            values = line.split()\n",
    "            word = values[0]\n",
    "            coefs = np.asarray(values[1:], dtype='float32')\n",
    "            embeddings_index[word] = coefs\n",
    "\n",
    "    print('Found %s word vectors.' % len(embeddings_index))\n",
    "    return embeddings_index"
   ]
  },
  {
   "cell_type": "code",
   "execution_count": 4,
   "metadata": {
    "collapsed": true
   },
   "outputs": [],
   "source": [
    "def loadDataSet(path):\n",
    "    label = []\n",
    "    data = []\n",
    "\n",
    "    with open(path,'r') as tsvin:\n",
    "        tsvin = csv.reader(tsvin, delimiter='\\t')\n",
    "        for row in tsvin:\n",
    "            label.append(int(row[0]))\n",
    "            data.append(row[1])\n",
    "    return data, label"
   ]
  },
  {
   "cell_type": "code",
   "execution_count": 5,
   "metadata": {
    "collapsed": true
   },
   "outputs": [],
   "source": [
    "def split(ratio, data, labels):\n",
    "    indices = np.arange(data.shape[0])\n",
    "    np.random.shuffle(indices)\n",
    "    \n",
    "    data = data[indices]\n",
    "    labels = labels[indices]\n",
    "    \n",
    "    nb_test = int(ratio * data.shape[0])\n",
    "\n",
    "    x_train = data[:-nb_test]\n",
    "    y_train = labels[:-nb_test]\n",
    "\n",
    "    x_test = data[-nb_test:]\n",
    "    y_test = labels[-nb_test:]\n",
    "    \n",
    "    return x_train, y_train, x_test, y_test"
   ]
  },
  {
   "cell_type": "code",
   "execution_count": 6,
   "metadata": {
    "collapsed": false
   },
   "outputs": [
    {
     "name": "stdout",
     "output_type": "stream",
     "text": [
      "Found 400000 word vectors.\n"
     ]
    }
   ],
   "source": [
    "embeddings_table = loadGlove(GLOVE_PATH)\n",
    "data_lines, data_labels = loadDataSet(TRAIN_DATA_PATH)"
   ]
  },
  {
   "cell_type": "code",
   "execution_count": 7,
   "metadata": {
    "collapsed": false
   },
   "outputs": [],
   "source": [
    "tokenizer = Tokenizer(nb_words=VOCAB_SIZE)\n",
    "tokenizer.fit_on_texts(data_lines)\n",
    "data_sequences = tokenizer.texts_to_sequences(data_lines)\n",
    "data_index = tokenizer.word_index\n",
    "vocab_dim = min(VOCAB_SIZE, len(data_index))\n"
   ]
  },
  {
   "cell_type": "code",
   "execution_count": 8,
   "metadata": {
    "collapsed": false
   },
   "outputs": [],
   "source": [
    "data_padded = pad_sequences(data_sequences, maxlen=SENTENCE_LENGTH)\n",
    "data_labels = np.asarray(data_labels)"
   ]
  },
  {
   "cell_type": "code",
   "execution_count": 9,
   "metadata": {
    "collapsed": false
   },
   "outputs": [],
   "source": [
    "x_train, y_train, x_test, y_test = split(TEST_SPLIT, data_padded, data_labels)"
   ]
  },
  {
   "cell_type": "code",
   "execution_count": 10,
   "metadata": {
    "collapsed": false
   },
   "outputs": [],
   "source": [
    "embedding_matrix = np.zeros((vocab_dim, EMBEDDING_DIM))\n",
    "\n",
    "for word, i in data_index.items():\n",
    "    if i < vocab_dim: \n",
    "        embedding_vector = embeddings_table.get(word)\n",
    "\n",
    "        if embedding_vector is not None:\n",
    "            embedding_matrix[i] = embedding_vector\n",
    "\n",
    "# save the initial word embeddings\n",
    "#np.save('init_embedding.npy', embedding_matrix)\n",
    "init_weights = np.copy(embedding_matrix)    \n",
    "embedding_layer = Embedding(vocab_dim, EMBEDDING_DIM, weights=[embedding_matrix], input_length=SENTENCE_LENGTH, trainable=True)"
   ]
  },
  {
   "cell_type": "code",
   "execution_count": 11,
   "metadata": {
    "collapsed": false,
    "scrolled": true
   },
   "outputs": [
    {
     "name": "stdout",
     "output_type": "stream",
     "text": [
      "Training model.\n",
      "Train on 1260 samples, validate on 314 samples\n",
      "Epoch 1/20\n",
      "1260/1260 [==============================] - 19s - loss: 0.7194 - acc: 0.5262 - val_loss: 0.7105 - val_acc: 0.4841\n",
      "Epoch 2/20\n",
      "1260/1260 [==============================] - 19s - loss: 0.6873 - acc: 0.5405 - val_loss: 0.6847 - val_acc: 0.5764\n",
      "Epoch 3/20\n",
      "1260/1260 [==============================] - 20s - loss: 0.6758 - acc: 0.5675 - val_loss: 0.6728 - val_acc: 0.5955\n",
      "Epoch 4/20\n",
      "1260/1260 [==============================] - 21s - loss: 0.6541 - acc: 0.6143 - val_loss: 0.6544 - val_acc: 0.6019\n",
      "Epoch 5/20\n",
      "1260/1260 [==============================] - 21s - loss: 0.6247 - acc: 0.6627 - val_loss: 0.6240 - val_acc: 0.6401\n",
      "Epoch 6/20\n",
      "1260/1260 [==============================] - 22s - loss: 0.5802 - acc: 0.6976 - val_loss: 0.6793 - val_acc: 0.6083\n",
      "Epoch 7/20\n",
      "1260/1260 [==============================] - 21s - loss: 0.5636 - acc: 0.7095 - val_loss: 0.5955 - val_acc: 0.6752\n",
      "Epoch 8/20\n",
      "1260/1260 [==============================] - 22s - loss: 0.5288 - acc: 0.7349 - val_loss: 0.5656 - val_acc: 0.6879\n",
      "Epoch 9/20\n",
      "1260/1260 [==============================] - 20s - loss: 0.5204 - acc: 0.7429 - val_loss: 0.5900 - val_acc: 0.6815\n",
      "Epoch 10/20\n",
      "1260/1260 [==============================] - 21s - loss: 0.4768 - acc: 0.7738 - val_loss: 0.5904 - val_acc: 0.6688\n",
      "Epoch 11/20\n",
      "1260/1260 [==============================] - 21s - loss: 0.4637 - acc: 0.7810 - val_loss: 0.6019 - val_acc: 0.6783\n",
      "Epoch 12/20\n",
      "1260/1260 [==============================] - 21s - loss: 0.4469 - acc: 0.7857 - val_loss: 0.5101 - val_acc: 0.7580\n",
      "Epoch 13/20\n",
      "1260/1260 [==============================] - 21s - loss: 0.4368 - acc: 0.8032 - val_loss: 0.5133 - val_acc: 0.7452\n",
      "Epoch 14/20\n",
      "1260/1260 [==============================] - 21s - loss: 0.4073 - acc: 0.8024 - val_loss: 0.5405 - val_acc: 0.7389\n",
      "Epoch 15/20\n",
      "1260/1260 [==============================] - 21s - loss: 0.3922 - acc: 0.8317 - val_loss: 0.4889 - val_acc: 0.7803\n",
      "Epoch 16/20\n",
      "1260/1260 [==============================] - 21s - loss: 0.3909 - acc: 0.8198 - val_loss: 0.5307 - val_acc: 0.7389\n",
      "Epoch 17/20\n",
      "1260/1260 [==============================] - 21s - loss: 0.3727 - acc: 0.8405 - val_loss: 0.5258 - val_acc: 0.7580\n",
      "Epoch 18/20\n",
      "1260/1260 [==============================] - 21s - loss: 0.3693 - acc: 0.8492 - val_loss: 0.5770 - val_acc: 0.7197\n",
      "Epoch 19/20\n",
      "1260/1260 [==============================] - 21s - loss: 0.3588 - acc: 0.8286 - val_loss: 0.5269 - val_acc: 0.7707\n",
      "Epoch 20/20\n",
      "1260/1260 [==============================] - 22s - loss: 0.3387 - acc: 0.8603 - val_loss: 0.6035 - val_acc: 0.7070\n"
     ]
    },
    {
     "data": {
      "text/plain": [
       "<keras.callbacks.History at 0x24eff4dba58>"
      ]
     },
     "execution_count": 11,
     "metadata": {},
     "output_type": "execute_result"
    }
   ],
   "source": [
    "print('Training model.')\n",
    "\n",
    "model = Sequential()\n",
    "model.add(embedding_layer)\n",
    "model.add(LSTM(128, dropout_W=0.2, dropout_U=0.2, return_sequences=True)) \n",
    "model.add(LSTM(128, dropout_W=0.2, dropout_U=0.2)) \n",
    "model.add(Dense(1, activation='sigmoid'))\n",
    "\n",
    "model.compile(loss='binary_crossentropy', optimizer='adagrad', metrics=['accuracy'])\n",
    "\n",
    "model.fit(x_train, y_train, validation_data=(x_test, y_test),nb_epoch=20, batch_size=20)\n"
   ]
  },
  {
   "cell_type": "code",
   "execution_count": 16,
   "metadata": {
    "collapsed": false
   },
   "outputs": [
    {
     "name": "stdout",
     "output_type": "stream",
     "text": [
      "Epoch 1/100\n",
      "1000/1000 [==============================] - 0s - loss: 0.3723 - acc: 0.5560     \n",
      "Epoch 2/100\n",
      "1000/1000 [==============================] - 0s - loss: 0.2538 - acc: 0.8170     \n",
      "Epoch 3/100\n",
      "1000/1000 [==============================] - 0s - loss: 0.1843 - acc: 0.8360     \n",
      "Epoch 4/100\n",
      "1000/1000 [==============================] - 0s - loss: 0.1380 - acc: 0.8440     \n",
      "Epoch 5/100\n",
      "1000/1000 [==============================] - 0s - loss: 0.1059 - acc: 0.8530     \n",
      "Epoch 6/100\n",
      "1000/1000 [==============================] - 0s - loss: 0.0839 - acc: 0.8590     \n",
      "Epoch 7/100\n",
      "1000/1000 [==============================] - 0s - loss: 0.0676 - acc: 0.8650     \n",
      "Epoch 8/100\n",
      "1000/1000 [==============================] - 0s - loss: 0.0546 - acc: 0.8740     \n",
      "Epoch 9/100\n",
      "1000/1000 [==============================] - 0s - loss: 0.0439 - acc: 0.8810     \n",
      "Epoch 10/100\n",
      "1000/1000 [==============================] - 0s - loss: 0.0350 - acc: 0.8910     \n",
      "Epoch 11/100\n",
      "1000/1000 [==============================] - 0s - loss: 0.0278 - acc: 0.9000     \n",
      "Epoch 12/100\n",
      "1000/1000 [==============================] - 0s - loss: 0.0221 - acc: 0.9060     \n",
      "Epoch 13/100\n",
      "1000/1000 [==============================] - 0s - loss: 0.0175 - acc: 0.9110     \n",
      "Epoch 14/100\n",
      "1000/1000 [==============================] - 0s - loss: 0.0140 - acc: 0.9140     \n",
      "Epoch 15/100\n",
      "1000/1000 [==============================] - 0s - loss: 0.0115 - acc: 0.9240     \n",
      "Epoch 16/100\n",
      "1000/1000 [==============================] - 0s - loss: 0.0097 - acc: 0.9260     \n",
      "Epoch 17/100\n",
      "1000/1000 [==============================] - 0s - loss: 0.0084 - acc: 0.9310     \n",
      "Epoch 18/100\n",
      "1000/1000 [==============================] - 0s - loss: 0.0076 - acc: 0.9330     \n",
      "Epoch 19/100\n",
      "1000/1000 [==============================] - 0s - loss: 0.0071 - acc: 0.9340     \n",
      "Epoch 20/100\n",
      "1000/1000 [==============================] - 0s - loss: 0.0068 - acc: 0.9370     \n",
      "Epoch 21/100\n",
      "1000/1000 [==============================] - 0s - loss: 0.0066 - acc: 0.9400     \n",
      "Epoch 22/100\n",
      "1000/1000 [==============================] - 0s - loss: 0.0064 - acc: 0.9400     \n",
      "Epoch 23/100\n",
      "1000/1000 [==============================] - 0s - loss: 0.0064 - acc: 0.9370     \n",
      "Epoch 24/100\n",
      "1000/1000 [==============================] - 0s - loss: 0.0063 - acc: 0.9380     \n",
      "Epoch 25/100\n",
      "1000/1000 [==============================] - 0s - loss: 0.0063 - acc: 0.9400     \n",
      "Epoch 26/100\n",
      "1000/1000 [==============================] - 0s - loss: 0.0062 - acc: 0.9390     \n",
      "Epoch 27/100\n",
      "1000/1000 [==============================] - 0s - loss: 0.0062 - acc: 0.9390     \n",
      "Epoch 28/100\n",
      "1000/1000 [==============================] - 0s - loss: 0.0061 - acc: 0.9410     \n",
      "Epoch 29/100\n",
      "1000/1000 [==============================] - 0s - loss: 0.0061 - acc: 0.9380     \n",
      "Epoch 30/100\n",
      "1000/1000 [==============================] - 0s - loss: 0.0061 - acc: 0.9410     \n",
      "Epoch 31/100\n",
      "1000/1000 [==============================] - 0s - loss: 0.0061 - acc: 0.9390     \n",
      "Epoch 32/100\n",
      "1000/1000 [==============================] - 0s - loss: 0.0060 - acc: 0.9380     \n",
      "Epoch 33/100\n",
      "1000/1000 [==============================] - 0s - loss: 0.0060 - acc: 0.9410     \n",
      "Epoch 34/100\n",
      "1000/1000 [==============================] - 0s - loss: 0.0060 - acc: 0.9380     \n",
      "Epoch 35/100\n",
      "1000/1000 [==============================] - 0s - loss: 0.0060 - acc: 0.9380     \n",
      "Epoch 36/100\n",
      "1000/1000 [==============================] - 0s - loss: 0.0059 - acc: 0.9390     \n",
      "Epoch 37/100\n",
      "1000/1000 [==============================] - 0s - loss: 0.0059 - acc: 0.9400     \n",
      "Epoch 38/100\n",
      "1000/1000 [==============================] - 0s - loss: 0.0059 - acc: 0.9380     \n",
      "Epoch 39/100\n",
      "1000/1000 [==============================] - 0s - loss: 0.0059 - acc: 0.9380     \n",
      "Epoch 40/100\n",
      "1000/1000 [==============================] - 0s - loss: 0.0058 - acc: 0.9410     \n",
      "Epoch 41/100\n",
      "1000/1000 [==============================] - 0s - loss: 0.0058 - acc: 0.9370     \n",
      "Epoch 42/100\n",
      "1000/1000 [==============================] - 0s - loss: 0.0058 - acc: 0.9400     \n",
      "Epoch 43/100\n",
      "1000/1000 [==============================] - 0s - loss: 0.0059 - acc: 0.9390     \n",
      "Epoch 44/100\n",
      "1000/1000 [==============================] - 0s - loss: 0.0057 - acc: 0.9370     \n",
      "Epoch 45/100\n",
      "1000/1000 [==============================] - 0s - loss: 0.0058 - acc: 0.9390     \n",
      "Epoch 46/100\n",
      "1000/1000 [==============================] - 0s - loss: 0.0057 - acc: 0.9410     \n",
      "Epoch 47/100\n",
      "1000/1000 [==============================] - 0s - loss: 0.0057 - acc: 0.9380     \n",
      "Epoch 48/100\n",
      "1000/1000 [==============================] - 0s - loss: 0.0057 - acc: 0.9370     \n",
      "Epoch 49/100\n",
      "1000/1000 [==============================] - 0s - loss: 0.0057 - acc: 0.9400     \n",
      "Epoch 50/100\n",
      "1000/1000 [==============================] - 0s - loss: 0.0057 - acc: 0.9400     \n",
      "Epoch 51/100\n",
      "1000/1000 [==============================] - 0s - loss: 0.0057 - acc: 0.9380     \n",
      "Epoch 52/100\n",
      "1000/1000 [==============================] - 0s - loss: 0.0057 - acc: 0.9390     \n",
      "Epoch 53/100\n",
      "1000/1000 [==============================] - 0s - loss: 0.0057 - acc: 0.9420     \n",
      "Epoch 54/100\n",
      "1000/1000 [==============================] - 0s - loss: 0.0057 - acc: 0.9400     \n",
      "Epoch 55/100\n",
      "1000/1000 [==============================] - 0s - loss: 0.0056 - acc: 0.9380     \n",
      "Epoch 56/100\n",
      "1000/1000 [==============================] - 0s - loss: 0.0056 - acc: 0.9390     \n",
      "Epoch 57/100\n",
      "1000/1000 [==============================] - 0s - loss: 0.0056 - acc: 0.9400     \n",
      "Epoch 58/100\n",
      "1000/1000 [==============================] - 0s - loss: 0.0056 - acc: 0.9380     \n",
      "Epoch 59/100\n",
      "1000/1000 [==============================] - 0s - loss: 0.0056 - acc: 0.9390     \n",
      "Epoch 60/100\n",
      "1000/1000 [==============================] - 0s - loss: 0.0056 - acc: 0.9430     \n",
      "Epoch 61/100\n",
      "1000/1000 [==============================] - 0s - loss: 0.0056 - acc: 0.9390     \n",
      "Epoch 62/100\n",
      "1000/1000 [==============================] - 0s - loss: 0.0055 - acc: 0.9390     \n",
      "Epoch 63/100\n",
      "1000/1000 [==============================] - 0s - loss: 0.0056 - acc: 0.9390     \n",
      "Epoch 64/100\n",
      "1000/1000 [==============================] - 0s - loss: 0.0056 - acc: 0.9390     \n",
      "Epoch 65/100\n",
      "1000/1000 [==============================] - 0s - loss: 0.0055 - acc: 0.9390     \n",
      "Epoch 66/100\n",
      "1000/1000 [==============================] - 0s - loss: 0.0055 - acc: 0.9380     \n",
      "Epoch 67/100\n",
      "1000/1000 [==============================] - 0s - loss: 0.0055 - acc: 0.9410     \n",
      "Epoch 68/100\n",
      "1000/1000 [==============================] - 0s - loss: 0.0055 - acc: 0.9420     \n",
      "Epoch 69/100\n",
      "1000/1000 [==============================] - 0s - loss: 0.0055 - acc: 0.9380     \n",
      "Epoch 70/100\n",
      "1000/1000 [==============================] - 0s - loss: 0.0055 - acc: 0.9390     \n",
      "Epoch 71/100\n",
      "1000/1000 [==============================] - 0s - loss: 0.0055 - acc: 0.9370     \n",
      "Epoch 72/100\n",
      "1000/1000 [==============================] - 0s - loss: 0.0055 - acc: 0.9420     \n",
      "Epoch 73/100\n",
      "1000/1000 [==============================] - 0s - loss: 0.0055 - acc: 0.9390     \n",
      "Epoch 74/100\n",
      "1000/1000 [==============================] - 0s - loss: 0.0054 - acc: 0.9410     \n",
      "Epoch 75/100\n",
      "1000/1000 [==============================] - 0s - loss: 0.0055 - acc: 0.9400     \n",
      "Epoch 76/100\n",
      "1000/1000 [==============================] - 0s - loss: 0.0055 - acc: 0.9380     \n",
      "Epoch 77/100\n",
      "1000/1000 [==============================] - 0s - loss: 0.0054 - acc: 0.9400     \n",
      "Epoch 78/100\n",
      "1000/1000 [==============================] - 0s - loss: 0.0055 - acc: 0.9390     \n",
      "Epoch 79/100\n",
      "1000/1000 [==============================] - 0s - loss: 0.0054 - acc: 0.9410     \n",
      "Epoch 80/100\n",
      "1000/1000 [==============================] - 0s - loss: 0.0054 - acc: 0.9390     \n",
      "Epoch 81/100\n",
      "1000/1000 [==============================] - 0s - loss: 0.0054 - acc: 0.9370     \n",
      "Epoch 82/100\n",
      "1000/1000 [==============================] - 0s - loss: 0.0054 - acc: 0.9400     \n",
      "Epoch 83/100\n",
      "1000/1000 [==============================] - 0s - loss: 0.0054 - acc: 0.9400     \n",
      "Epoch 84/100\n",
      "1000/1000 [==============================] - 0s - loss: 0.0054 - acc: 0.9380     \n",
      "Epoch 85/100\n",
      "1000/1000 [==============================] - 0s - loss: 0.0054 - acc: 0.9360     \n",
      "Epoch 86/100\n",
      "1000/1000 [==============================] - 0s - loss: 0.0054 - acc: 0.9380     \n",
      "Epoch 87/100\n",
      "1000/1000 [==============================] - 0s - loss: 0.0054 - acc: 0.9390     \n",
      "Epoch 88/100\n",
      "1000/1000 [==============================] - 0s - loss: 0.0053 - acc: 0.9380     \n",
      "Epoch 89/100\n",
      "1000/1000 [==============================] - 0s - loss: 0.0053 - acc: 0.9400     \n",
      "Epoch 90/100\n",
      "1000/1000 [==============================] - 0s - loss: 0.0054 - acc: 0.9420     \n",
      "Epoch 91/100\n",
      "1000/1000 [==============================] - 0s - loss: 0.0054 - acc: 0.9390     \n",
      "Epoch 92/100\n",
      "1000/1000 [==============================] - 0s - loss: 0.0054 - acc: 0.9400     \n",
      "Epoch 93/100\n",
      "1000/1000 [==============================] - 0s - loss: 0.0054 - acc: 0.9370     \n",
      "Epoch 94/100\n",
      "1000/1000 [==============================] - 0s - loss: 0.0053 - acc: 0.9390     \n",
      "Epoch 95/100\n",
      "1000/1000 [==============================] - 0s - loss: 0.0054 - acc: 0.9390     \n",
      "Epoch 96/100\n",
      "1000/1000 [==============================] - 0s - loss: 0.0053 - acc: 0.9390     \n",
      "Epoch 97/100\n",
      "1000/1000 [==============================] - 0s - loss: 0.0053 - acc: 0.9390     \n",
      "Epoch 98/100\n",
      "1000/1000 [==============================] - 0s - loss: 0.0053 - acc: 0.9380     \n",
      "Epoch 99/100\n",
      "1000/1000 [==============================] - 0s - loss: 0.0054 - acc: 0.9380     \n",
      "Epoch 100/100\n",
      "1000/1000 [==============================] - 0s - loss: 0.0053 - acc: 0.9380     \n"
     ]
    },
    {
     "data": {
      "text/plain": [
       "<keras.callbacks.History at 0x24e8238f6a0>"
      ]
     },
     "execution_count": 16,
     "metadata": {},
     "output_type": "execute_result"
    }
   ],
   "source": [
    "# train linear classifier between the inti and final embedding\n",
    "trained_embeeding = np.copy(embedding_layer.get_weights())\n",
    "\n",
    "expansion_model = Sequential()\n",
    "expansion_model.add(Dense(EMBEDDING_DIM,init='uniform', activation='linear', input_dim=EMBEDDING_DIM))\n",
    "\n",
    "expansion_model.compile(loss='mse', optimizer='rmsprop', metrics=['accuracy'])\n",
    "expansion_model.fit(init_weights, trained_embeeding.reshape(VOCAB_SIZE,EMBEDDING_DIM), nb_epoch=100, batch_size=20)"
   ]
  },
  {
   "cell_type": "code",
   "execution_count": 17,
   "metadata": {
    "collapsed": true
   },
   "outputs": [],
   "source": [
    "expansion_model.save('EmbeddingExpansion.pkl')"
   ]
  }
 ],
 "metadata": {
  "kernelspec": {
   "display_name": "Python 3",
   "language": "python",
   "name": "python3"
  },
  "language_info": {
   "codemirror_mode": {
    "name": "ipython",
    "version": 3
   },
   "file_extension": ".py",
   "mimetype": "text/x-python",
   "name": "python",
   "nbconvert_exporter": "python",
   "pygments_lexer": "ipython3",
   "version": "3.5.2"
  }
 },
 "nbformat": 4,
 "nbformat_minor": 0
}
