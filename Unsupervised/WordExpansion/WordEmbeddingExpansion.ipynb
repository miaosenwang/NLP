{
 "cells": [
  {
   "cell_type": "code",
   "execution_count": 1,
   "metadata": {
    "collapsed": false
   },
   "outputs": [
    {
     "name": "stderr",
     "output_type": "stream",
     "text": [
      "Using TensorFlow backend.\n"
     ]
    }
   ],
   "source": [
    "from keras.preprocessing.text import Tokenizer\n",
    "from keras.preprocessing.sequence import pad_sequences\n",
    "from keras.layers import Dense, Input\n",
    "from keras.layers import Embedding, LSTM\n",
    "from keras.models import Sequential\n",
    "\n",
    "import numpy as np\n",
    "import csv\n",
    "from sklearn.externals import joblib\n"
   ]
  },
  {
   "cell_type": "code",
   "execution_count": 2,
   "metadata": {
    "collapsed": false
   },
   "outputs": [],
   "source": [
    "GLOVE_PATH = ''\n",
    "TRAIN_DATA_PATH = ''\n",
    "\n",
    "SENTENCE_LENGTH = 100\n",
    "EMBEDDING_DIM = 50\n",
    "TEST_SPLIT = 0.2\n",
    "\n",
    "VOCAB_SIZE = 1000"
   ]
  },
  {
   "cell_type": "code",
   "execution_count": 3,
   "metadata": {
    "collapsed": true
   },
   "outputs": [],
   "source": [
    "def loadGlove(path):\n",
    "    embeddings_index = {}\n",
    "    with open(path, \"r\", encoding=\"utf8\") as glovef:\n",
    "        for line in glovef:\n",
    "            values = line.split()\n",
    "            word = values[0]\n",
    "            coefs = np.asarray(values[1:], dtype='float32')\n",
    "            embeddings_index[word] = coefs\n",
    "\n",
    "    print('Found %s word vectors.' % len(embeddings_index))\n",
    "    return embeddings_index"
   ]
  },
  {
   "cell_type": "code",
   "execution_count": 4,
   "metadata": {
    "collapsed": true
   },
   "outputs": [],
   "source": [
    "def loadDataSet(path):\n",
    "    label = []\n",
    "    data = []\n",
    "\n",
    "    with open(path,'r') as tsvin:\n",
    "        tsvin = csv.reader(tsvin, delimiter='\\t')\n",
    "        for row in tsvin:\n",
    "            label.append(int(row[0]))\n",
    "            data.append(row[1])\n",
    "    return data, label"
   ]
  },
  {
   "cell_type": "code",
   "execution_count": 5,
   "metadata": {
    "collapsed": true
   },
   "outputs": [],
   "source": [
    "def split(ratio, data, labels):\n",
    "    indices = np.arange(data.shape[0])\n",
    "    np.random.shuffle(indices)\n",
    "    \n",
    "    data = data[indices]\n",
    "    labels = labels[indices]\n",
    "    \n",
    "    nb_test = int(ratio * data.shape[0])\n",
    "\n",
    "    x_train = data[:-nb_test]\n",
    "    y_train = labels[:-nb_test]\n",
    "\n",
    "    x_test = data[-nb_test:]\n",
    "    y_test = labels[-nb_test:]\n",
    "    \n",
    "    return x_train, y_train, x_test, y_test"
   ]
  },
  {
   "cell_type": "code",
   "execution_count": 6,
   "metadata": {
    "collapsed": false
   },
   "outputs": [
    {
     "name": "stdout",
     "output_type": "stream",
     "text": [
      "Found 400000 word vectors.\n"
     ]
    }
   ],
   "source": [
    "embeddings_table = loadGlove(GLOVE_PATH)\n",
    "data_lines, data_labels = loadDataSet(TRAIN_DATA_PATH)"
   ]
  },
  {
   "cell_type": "code",
   "execution_count": 7,
   "metadata": {
    "collapsed": false
   },
   "outputs": [],
   "source": [
    "tokenizer = Tokenizer(nb_words=VOCAB_SIZE)\n",
    "tokenizer.fit_on_texts(data_lines)\n",
    "data_sequences = tokenizer.texts_to_sequences(data_lines)\n",
    "data_index = tokenizer.word_index\n",
    "vocab_dim = min(VOCAB_SIZE, len(data_index))\n"
   ]
  },
  {
   "cell_type": "code",
   "execution_count": 8,
   "metadata": {
    "collapsed": false
   },
   "outputs": [],
   "source": [
    "data_padded = pad_sequences(data_sequences, maxlen=SENTENCE_LENGTH)\n",
    "data_labels = np.asarray(data_labels)"
   ]
  },
  {
   "cell_type": "code",
   "execution_count": 9,
   "metadata": {
    "collapsed": false
   },
   "outputs": [],
   "source": [
    "x_train, y_train, x_test, y_test = split(TEST_SPLIT, data_padded, data_labels)"
   ]
  },
  {
   "cell_type": "code",
   "execution_count": 10,
   "metadata": {
    "collapsed": false
   },
   "outputs": [],
   "source": [
    "embedding_matrix = np.zeros((vocab_dim, EMBEDDING_DIM))\n",
    "\n",
    "for word, i in data_index.items():\n",
    "    if i < vocab_dim: \n",
    "        embedding_vector = np.copy(embeddings_table.get(word))\n",
    "\n",
    "        if embedding_vector is not None:\n",
    "            embedding_matrix[i] = embedding_vector\n",
    "\n",
    "# save the initial word embeddings\n",
    "#np.save('init_embedding.npy', embedding_matrix)\n",
    "init_weights = np.copy(embedding_matrix)    \n",
    "embedding_layer = Embedding(vocab_dim, EMBEDDING_DIM, weights=[embedding_matrix], input_length=SENTENCE_LENGTH, trainable=True)"
   ]
  },
  {
   "cell_type": "code",
   "execution_count": 11,
   "metadata": {
    "collapsed": false,
    "scrolled": true
   },
   "outputs": [
    {
     "name": "stdout",
     "output_type": "stream",
     "text": [
      "Training model.\n",
      "Train on 1260 samples, validate on 314 samples\n",
      "Epoch 1/20\n",
      "1260/1260 [==============================] - 25s - loss: 8.3837 - acc: 0.0079 - val_loss: 8.2251 - val_acc: 0.0000e+00\n",
      "Epoch 2/20\n",
      "1260/1260 [==============================] - 24s - loss: 8.4646 - acc: 0.0000e+00 - val_loss: 8.2251 - val_acc: 0.0000e+00\n",
      "Epoch 3/20\n",
      "1260/1260 [==============================] - 24s - loss: 8.4646 - acc: 0.0000e+00 - val_loss: 8.2251 - val_acc: 0.0000e+00\n",
      "Epoch 4/20\n",
      "1260/1260 [==============================] - 25s - loss: 8.4646 - acc: 0.0000e+00 - val_loss: 8.2251 - val_acc: 0.0000e+00\n",
      "Epoch 5/20\n",
      "1260/1260 [==============================] - 24s - loss: 8.4646 - acc: 0.0000e+00 - val_loss: 8.2251 - val_acc: 0.0000e+00\n",
      "Epoch 6/20\n",
      "1260/1260 [==============================] - 24s - loss: 8.4646 - acc: 0.0000e+00 - val_loss: 8.2251 - val_acc: 0.0000e+00\n",
      "Epoch 7/20\n",
      "1260/1260 [==============================] - 24s - loss: 8.4646 - acc: 0.0000e+00 - val_loss: 8.2251 - val_acc: 0.0000e+00\n",
      "Epoch 8/20\n",
      "1260/1260 [==============================] - 24s - loss: 8.4646 - acc: 0.0000e+00 - val_loss: 8.2251 - val_acc: 0.0000e+00\n",
      "Epoch 9/20\n",
      "1260/1260 [==============================] - 24s - loss: 8.4646 - acc: 0.0000e+00 - val_loss: 8.2251 - val_acc: 0.0000e+00\n",
      "Epoch 10/20\n",
      "1260/1260 [==============================] - 24s - loss: 8.4646 - acc: 0.0000e+00 - val_loss: 8.2251 - val_acc: 0.0000e+00\n",
      "Epoch 11/20\n",
      "1260/1260 [==============================] - 24s - loss: 8.4646 - acc: 0.0000e+00 - val_loss: 8.2251 - val_acc: 0.0000e+00\n",
      "Epoch 12/20\n",
      "1260/1260 [==============================] - 25s - loss: 8.4646 - acc: 0.0000e+00 - val_loss: 8.2251 - val_acc: 0.0000e+00\n",
      "Epoch 13/20\n",
      "1260/1260 [==============================] - 24s - loss: 8.4646 - acc: 0.0000e+00 - val_loss: 8.2251 - val_acc: 0.0000e+00\n",
      "Epoch 14/20\n",
      "1260/1260 [==============================] - 24s - loss: 8.4646 - acc: 0.0000e+00 - val_loss: 8.2251 - val_acc: 0.0000e+00\n",
      "Epoch 15/20\n",
      "1260/1260 [==============================] - 24s - loss: 8.4646 - acc: 0.0000e+00 - val_loss: 8.2251 - val_acc: 0.0000e+00\n",
      "Epoch 16/20\n",
      "1260/1260 [==============================] - 24s - loss: 8.4646 - acc: 0.0000e+00 - val_loss: 8.2251 - val_acc: 0.0000e+00\n",
      "Epoch 17/20\n",
      "1260/1260 [==============================] - 24s - loss: 8.4646 - acc: 0.0000e+00 - val_loss: 8.2251 - val_acc: 0.0000e+00\n",
      "Epoch 18/20\n",
      "1260/1260 [==============================] - 24s - loss: 8.4646 - acc: 0.0000e+00 - val_loss: 8.2251 - val_acc: 0.0000e+00\n",
      "Epoch 19/20\n",
      "1260/1260 [==============================] - 24s - loss: 8.4646 - acc: 0.0000e+00 - val_loss: 8.2251 - val_acc: 0.0000e+00\n",
      "Epoch 20/20\n",
      "1260/1260 [==============================] - 24s - loss: 8.4646 - acc: 0.0000e+00 - val_loss: 8.2251 - val_acc: 0.0000e+00\n"
     ]
    },
    {
     "data": {
      "text/plain": [
       "<keras.callbacks.History at 0x11a4ff54b38>"
      ]
     },
     "execution_count": 11,
     "metadata": {},
     "output_type": "execute_result"
    }
   ],
   "source": [
    "print('Training model.')\n",
    "\n",
    "model = Sequential()\n",
    "model.add(embedding_layer)\n",
    "model.add(LSTM(128, dropout_W=0.2, dropout_U=0.2, return_sequences=True)) \n",
    "model.add(LSTM(128, dropout_W=0.2, dropout_U=0.2)) \n",
    "model.add(Dense(1, activation='sigmoid'))\n",
    "\n",
    "model.compile(loss='binary_crossentropy', optimizer='adagrad', metrics=['accuracy'])\n",
    "\n",
    "model.fit(x_train, y_train, validation_data=(x_test, y_test),nb_epoch=20, batch_size=20)\n"
   ]
  },
  {
   "cell_type": "code",
   "execution_count": 12,
   "metadata": {
    "collapsed": false
   },
   "outputs": [
    {
     "name": "stdout",
     "output_type": "stream",
     "text": [
      "Epoch 1/100\n",
      "1000/1000 [==============================] - 0s - loss: nan - acc: 0.9750     \n",
      "Epoch 2/100\n",
      "1000/1000 [==============================] - 0s - loss: nan - acc: 0.9940     \n",
      "Epoch 3/100\n",
      "1000/1000 [==============================] - 0s - loss: nan - acc: 0.9940     \n",
      "Epoch 4/100\n",
      "1000/1000 [==============================] - 0s - loss: nan - acc: 0.9940     \n",
      "Epoch 5/100\n",
      "1000/1000 [==============================] - 0s - loss: nan - acc: 0.9940     \n",
      "Epoch 6/100\n",
      "1000/1000 [==============================] - 0s - loss: nan - acc: 0.9940     \n",
      "Epoch 7/100\n",
      "1000/1000 [==============================] - 0s - loss: nan - acc: 0.9940     \n",
      "Epoch 8/100\n",
      "1000/1000 [==============================] - 0s - loss: nan - acc: 0.9940     \n",
      "Epoch 9/100\n",
      "1000/1000 [==============================] - 0s - loss: nan - acc: 0.9940     \n",
      "Epoch 10/100\n",
      "1000/1000 [==============================] - 0s - loss: nan - acc: 0.9940     \n",
      "Epoch 11/100\n",
      "1000/1000 [==============================] - 0s - loss: nan - acc: 0.9940     \n",
      "Epoch 12/100\n",
      "1000/1000 [==============================] - 0s - loss: nan - acc: 0.9940     \n",
      "Epoch 13/100\n",
      "1000/1000 [==============================] - 0s - loss: nan - acc: 0.9940     \n",
      "Epoch 14/100\n",
      "1000/1000 [==============================] - 0s - loss: nan - acc: 0.9940     \n",
      "Epoch 15/100\n",
      "1000/1000 [==============================] - 0s - loss: nan - acc: 0.9940     \n",
      "Epoch 16/100\n",
      "1000/1000 [==============================] - 0s - loss: nan - acc: 0.9940     \n",
      "Epoch 17/100\n",
      "1000/1000 [==============================] - 0s - loss: nan - acc: 0.9940     \n",
      "Epoch 18/100\n",
      "1000/1000 [==============================] - 0s - loss: nan - acc: 0.9940     \n",
      "Epoch 19/100\n",
      "1000/1000 [==============================] - 0s - loss: nan - acc: 0.9940     \n",
      "Epoch 20/100\n",
      "1000/1000 [==============================] - 0s - loss: nan - acc: 0.9940     \n",
      "Epoch 21/100\n",
      "1000/1000 [==============================] - 0s - loss: nan - acc: 0.9940     \n",
      "Epoch 22/100\n",
      "1000/1000 [==============================] - 0s - loss: nan - acc: 0.9940     \n",
      "Epoch 23/100\n",
      "1000/1000 [==============================] - 0s - loss: nan - acc: 0.9940     \n",
      "Epoch 24/100\n",
      "1000/1000 [==============================] - 0s - loss: nan - acc: 0.9940     \n",
      "Epoch 25/100\n",
      "1000/1000 [==============================] - 0s - loss: nan - acc: 0.9940     \n",
      "Epoch 26/100\n",
      "1000/1000 [==============================] - 0s - loss: nan - acc: 0.9940     \n",
      "Epoch 27/100\n",
      "1000/1000 [==============================] - 0s - loss: nan - acc: 0.9940     \n",
      "Epoch 28/100\n",
      "1000/1000 [==============================] - 0s - loss: nan - acc: 0.9940     \n",
      "Epoch 29/100\n",
      "1000/1000 [==============================] - 0s - loss: nan - acc: 0.9940     \n",
      "Epoch 30/100\n",
      "1000/1000 [==============================] - 0s - loss: nan - acc: 0.9940     \n",
      "Epoch 31/100\n",
      "1000/1000 [==============================] - 0s - loss: nan - acc: 0.9940     \n",
      "Epoch 32/100\n",
      "1000/1000 [==============================] - 0s - loss: nan - acc: 0.9940     \n",
      "Epoch 33/100\n",
      "1000/1000 [==============================] - 0s - loss: nan - acc: 0.9940     \n",
      "Epoch 34/100\n",
      "1000/1000 [==============================] - 0s - loss: nan - acc: 0.9940     \n",
      "Epoch 35/100\n",
      "1000/1000 [==============================] - 0s - loss: nan - acc: 0.9940     \n",
      "Epoch 36/100\n",
      "1000/1000 [==============================] - 0s - loss: nan - acc: 0.9940     \n",
      "Epoch 37/100\n",
      "1000/1000 [==============================] - 0s - loss: nan - acc: 0.9940     \n",
      "Epoch 38/100\n",
      "1000/1000 [==============================] - 0s - loss: nan - acc: 0.9940     \n",
      "Epoch 39/100\n",
      "1000/1000 [==============================] - 0s - loss: nan - acc: 0.9940     \n",
      "Epoch 40/100\n",
      "1000/1000 [==============================] - 0s - loss: nan - acc: 0.9940     \n",
      "Epoch 41/100\n",
      "1000/1000 [==============================] - 0s - loss: nan - acc: 0.9940     \n",
      "Epoch 42/100\n",
      "1000/1000 [==============================] - 0s - loss: nan - acc: 0.9940     \n",
      "Epoch 43/100\n",
      "1000/1000 [==============================] - 0s - loss: nan - acc: 0.9940     \n",
      "Epoch 44/100\n",
      "1000/1000 [==============================] - 0s - loss: nan - acc: 0.9940     \n",
      "Epoch 45/100\n",
      "1000/1000 [==============================] - 0s - loss: nan - acc: 0.9940     \n",
      "Epoch 46/100\n",
      "1000/1000 [==============================] - 0s - loss: nan - acc: 0.9940     \n",
      "Epoch 47/100\n",
      "1000/1000 [==============================] - 0s - loss: nan - acc: 0.9940     \n",
      "Epoch 48/100\n",
      "1000/1000 [==============================] - 0s - loss: nan - acc: 0.9940     \n",
      "Epoch 49/100\n",
      "1000/1000 [==============================] - 0s - loss: nan - acc: 0.9940     \n",
      "Epoch 50/100\n",
      "1000/1000 [==============================] - 0s - loss: nan - acc: 0.9940     \n",
      "Epoch 51/100\n",
      "1000/1000 [==============================] - 0s - loss: nan - acc: 0.9940     \n",
      "Epoch 52/100\n",
      "1000/1000 [==============================] - 0s - loss: nan - acc: 0.9940     \n",
      "Epoch 53/100\n",
      "1000/1000 [==============================] - 0s - loss: nan - acc: 0.9940     \n",
      "Epoch 54/100\n",
      "1000/1000 [==============================] - 0s - loss: nan - acc: 0.9940     \n",
      "Epoch 55/100\n",
      "1000/1000 [==============================] - 0s - loss: nan - acc: 0.9940     \n",
      "Epoch 56/100\n",
      "1000/1000 [==============================] - 0s - loss: nan - acc: 0.9940     \n",
      "Epoch 57/100\n",
      "1000/1000 [==============================] - 0s - loss: nan - acc: 0.9940     \n",
      "Epoch 58/100\n",
      "1000/1000 [==============================] - 0s - loss: nan - acc: 0.9940     \n",
      "Epoch 59/100\n",
      "1000/1000 [==============================] - 0s - loss: nan - acc: 0.9940     \n",
      "Epoch 60/100\n",
      "1000/1000 [==============================] - 0s - loss: nan - acc: 0.9940     \n",
      "Epoch 61/100\n",
      "1000/1000 [==============================] - 0s - loss: nan - acc: 0.9940     \n",
      "Epoch 62/100\n",
      "1000/1000 [==============================] - 0s - loss: nan - acc: 0.9940     \n",
      "Epoch 63/100\n",
      "1000/1000 [==============================] - 0s - loss: nan - acc: 0.9940     \n",
      "Epoch 64/100\n",
      "1000/1000 [==============================] - 0s - loss: nan - acc: 0.9940     \n",
      "Epoch 65/100\n",
      "1000/1000 [==============================] - 0s - loss: nan - acc: 0.9940     \n",
      "Epoch 66/100\n",
      "1000/1000 [==============================] - 0s - loss: nan - acc: 0.9940     \n",
      "Epoch 67/100\n",
      "1000/1000 [==============================] - 0s - loss: nan - acc: 0.9940     \n",
      "Epoch 68/100\n",
      "1000/1000 [==============================] - 0s - loss: nan - acc: 0.9940     \n",
      "Epoch 69/100\n",
      "1000/1000 [==============================] - 0s - loss: nan - acc: 0.9940     \n",
      "Epoch 70/100\n",
      "1000/1000 [==============================] - 0s - loss: nan - acc: 0.9940     \n",
      "Epoch 71/100\n",
      "1000/1000 [==============================] - 0s - loss: nan - acc: 0.9940     \n",
      "Epoch 72/100\n",
      "1000/1000 [==============================] - 0s - loss: nan - acc: 0.9940     \n",
      "Epoch 73/100\n",
      "1000/1000 [==============================] - 0s - loss: nan - acc: 0.9940     \n",
      "Epoch 74/100\n",
      "1000/1000 [==============================] - 0s - loss: nan - acc: 0.9940     \n",
      "Epoch 75/100\n",
      "1000/1000 [==============================] - 0s - loss: nan - acc: 0.9940     \n",
      "Epoch 76/100\n",
      "1000/1000 [==============================] - 0s - loss: nan - acc: 0.9940     \n",
      "Epoch 77/100\n",
      "1000/1000 [==============================] - 0s - loss: nan - acc: 0.9940     \n",
      "Epoch 78/100\n",
      "1000/1000 [==============================] - 0s - loss: nan - acc: 0.9940     \n",
      "Epoch 79/100\n",
      "1000/1000 [==============================] - 0s - loss: nan - acc: 0.9940     \n",
      "Epoch 80/100\n",
      "1000/1000 [==============================] - 0s - loss: nan - acc: 0.9940     \n",
      "Epoch 81/100\n",
      "1000/1000 [==============================] - 0s - loss: nan - acc: 0.9940     \n",
      "Epoch 82/100\n",
      "1000/1000 [==============================] - 0s - loss: nan - acc: 0.9940     \n",
      "Epoch 83/100\n",
      "1000/1000 [==============================] - 0s - loss: nan - acc: 0.9940     \n",
      "Epoch 84/100\n",
      "1000/1000 [==============================] - 0s - loss: nan - acc: 0.9940     \n",
      "Epoch 85/100\n",
      "1000/1000 [==============================] - 0s - loss: nan - acc: 0.9940     \n",
      "Epoch 86/100\n",
      "1000/1000 [==============================] - 0s - loss: nan - acc: 0.9940     \n",
      "Epoch 87/100\n",
      "1000/1000 [==============================] - 0s - loss: nan - acc: 0.9940     \n",
      "Epoch 88/100\n",
      "1000/1000 [==============================] - 0s - loss: nan - acc: 0.9940     \n",
      "Epoch 89/100\n",
      "1000/1000 [==============================] - 0s - loss: nan - acc: 0.9940     \n",
      "Epoch 90/100\n",
      "1000/1000 [==============================] - 0s - loss: nan - acc: 0.9940     \n",
      "Epoch 91/100\n",
      "1000/1000 [==============================] - 0s - loss: nan - acc: 0.9940     \n",
      "Epoch 92/100\n",
      "1000/1000 [==============================] - 0s - loss: nan - acc: 0.9940     \n",
      "Epoch 93/100\n",
      "1000/1000 [==============================] - 0s - loss: nan - acc: 0.9940     \n",
      "Epoch 94/100\n",
      "1000/1000 [==============================] - 0s - loss: nan - acc: 0.9940     \n",
      "Epoch 95/100\n",
      "1000/1000 [==============================] - 0s - loss: nan - acc: 0.9940     \n",
      "Epoch 96/100\n",
      "1000/1000 [==============================] - 0s - loss: nan - acc: 0.9940     \n",
      "Epoch 97/100\n",
      "1000/1000 [==============================] - 0s - loss: nan - acc: 0.9940     \n",
      "Epoch 98/100\n",
      "1000/1000 [==============================] - 0s - loss: nan - acc: 0.9940     \n",
      "Epoch 99/100\n",
      "1000/1000 [==============================] - 0s - loss: nan - acc: 0.9940     \n",
      "Epoch 100/100\n",
      "1000/1000 [==============================] - 0s - loss: nan - acc: 0.9940     \n"
     ]
    },
    {
     "data": {
      "text/plain": [
       "<keras.callbacks.History at 0x11a52d48cf8>"
      ]
     },
     "execution_count": 12,
     "metadata": {},
     "output_type": "execute_result"
    }
   ],
   "source": [
    "# train linear classifier between the inti and final embedding\n",
    "trained_embeeding = np.copy(embedding_layer.get_weights())\n",
    "\n",
    "expansion_model = Sequential()\n",
    "expansion_model.add(Dense(EMBEDDING_DIM,init='uniform', activation='linear', input_dim=EMBEDDING_DIM))\n",
    "\n",
    "expansion_model.compile(loss='mse', optimizer='rmsprop', metrics=['accuracy'])\n",
    "expansion_model.fit(init_weights, trained_embeeding.reshape(VOCAB_SIZE,EMBEDDING_DIM), nb_epoch=100, batch_size=20)"
   ]
  },
  {
   "cell_type": "code",
   "execution_count": 13,
   "metadata": {
    "collapsed": true
   },
   "outputs": [],
   "source": [
    "expansion_model.save('EmbeddingExpansion.pkl')"
   ]
  },
  {
   "cell_type": "code",
   "execution_count": 17,
   "metadata": {
    "collapsed": false
   },
   "outputs": [
    {
     "data": {
      "text/plain": [
       "['embedding_expansion_glove.pkl']"
      ]
     },
     "execution_count": 17,
     "metadata": {},
     "output_type": "execute_result"
    }
   ],
   "source": [
    "for key, value in embeddings_table.items():\n",
    "    new_value = expansion_model.predict(value.reshape(1,EMBEDDING_DIM), verbose =0)\n",
    "    embeddings_table[key] = new_value\n",
    "joblib.dump(embeddings_table, 'embedding_expansion_glove.pkl') "
   ]
  }
 ],
 "metadata": {
  "kernelspec": {
   "display_name": "Python 3",
   "language": "python",
   "name": "python3"
  },
  "language_info": {
   "codemirror_mode": {
    "name": "ipython",
    "version": 3
   },
   "file_extension": ".py",
   "mimetype": "text/x-python",
   "name": "python",
   "nbconvert_exporter": "python",
   "pygments_lexer": "ipython3",
   "version": "3.5.2"
  }
 },
 "nbformat": 4,
 "nbformat_minor": 0
}
