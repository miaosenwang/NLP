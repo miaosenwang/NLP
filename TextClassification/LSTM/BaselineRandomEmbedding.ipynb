{
 "cells": [
  {
   "cell_type": "code",
   "execution_count": 1,
   "metadata": {
    "collapsed": false
   },
   "outputs": [
    {
     "name": "stderr",
     "output_type": "stream",
     "text": [
      "Using TensorFlow backend.\n"
     ]
    }
   ],
   "source": [
    "from keras.preprocessing.text import Tokenizer\n",
    "from keras.preprocessing.sequence import pad_sequences\n",
    "from keras.layers import Dense, Input\n",
    "from keras.layers import Embedding, LSTM\n",
    "from keras.models import Sequential\n",
    "\n",
    "import numpy as np\n",
    "import csv\n"
   ]
  },
  {
   "cell_type": "code",
   "execution_count": 2,
   "metadata": {
    "collapsed": false
   },
   "outputs": [],
   "source": [
    "TRAIN_DATA_PATH = ''\n",
    "\n",
    "SENTENCE_LENGTH = 100\n",
    "EMBEDDING_DIM = 50\n",
    "TEST_SPLIT = 0.2\n",
    "\n",
    "VOCAB_SIZE = 1000"
   ]
  },
  {
   "cell_type": "code",
   "execution_count": 3,
   "metadata": {
    "collapsed": true
   },
   "outputs": [],
   "source": [
    "def loadDataSet(path):\n",
    "    label = []\n",
    "    data = []\n",
    "\n",
    "    with open(path,'r') as tsvin:\n",
    "        tsvin = csv.reader(tsvin, delimiter='\\t')\n",
    "        for row in tsvin:\n",
    "            label.append(int(row[0]))\n",
    "            data.append(row[1])\n",
    "    return data, label"
   ]
  },
  {
   "cell_type": "code",
   "execution_count": 4,
   "metadata": {
    "collapsed": true
   },
   "outputs": [],
   "source": [
    "def split(ratio, data, labels):\n",
    "    indices = np.arange(data.shape[0])\n",
    "    np.random.shuffle(indices)\n",
    "    \n",
    "    data = data[indices]\n",
    "    labels = labels[indices]\n",
    "    \n",
    "    nb_test = int(ratio * data.shape[0])\n",
    "\n",
    "    x_train = data[:-nb_test]\n",
    "    y_train = labels[:-nb_test]\n",
    "\n",
    "    x_test = data[-nb_test:]\n",
    "    y_test = labels[-nb_test:]\n",
    "    \n",
    "    return x_train, y_train, x_test, y_test"
   ]
  },
  {
   "cell_type": "code",
   "execution_count": 5,
   "metadata": {
    "collapsed": false
   },
   "outputs": [
    {
     "name": "stdout",
     "output_type": "stream",
     "text": [
      "Found 1574 training instance.\n"
     ]
    }
   ],
   "source": [
    "data_lines, data_labels = loadDataSet(TRAIN_DATA_PATH)\n",
    "\n",
    "print('Found %s training instance.' % len(data_lines))"
   ]
  },
  {
   "cell_type": "code",
   "execution_count": 6,
   "metadata": {
    "collapsed": false
   },
   "outputs": [],
   "source": [
    "# should save the tokenizer so that the text sequence is consistant\n",
    "\n",
    "tokenizer = Tokenizer(nb_words=VOCAB_SIZE)\n",
    "tokenizer.fit_on_texts(data_lines)\n",
    "data_sequences = tokenizer.texts_to_sequences(data_lines)\n",
    "data_index = tokenizer.word_index\n",
    "vocab_dim = min(VOCAB_SIZE, len(data_index))"
   ]
  },
  {
   "cell_type": "code",
   "execution_count": 7,
   "metadata": {
    "collapsed": false
   },
   "outputs": [],
   "source": [
    "data_padded = pad_sequences(data_sequences, maxlen=SENTENCE_LENGTH)\n",
    "data_labels = np.asarray(data_labels)"
   ]
  },
  {
   "cell_type": "code",
   "execution_count": 8,
   "metadata": {
    "collapsed": false
   },
   "outputs": [],
   "source": [
    "x_train, y_train, x_test, y_test = split(TEST_SPLIT, data_padded, data_labels)"
   ]
  },
  {
   "cell_type": "code",
   "execution_count": 9,
   "metadata": {
    "collapsed": false
   },
   "outputs": [],
   "source": [
    "embedding_matrix = np.random.normal(scale= 0.01, size=(vocab_dim,EMBEDDING_DIM)).reshape(vocab_dim, EMBEDDING_DIM)\n",
    "\n",
    "embedding_layer = Embedding(vocab_dim, EMBEDDING_DIM, weights=[embedding_matrix], input_length=SENTENCE_LENGTH, trainable=True)"
   ]
  },
  {
   "cell_type": "code",
   "execution_count": 10,
   "metadata": {
    "collapsed": false
   },
   "outputs": [
    {
     "name": "stdout",
     "output_type": "stream",
     "text": [
      "Training model.\n",
      "Train on 1260 samples, validate on 314 samples\n",
      "Epoch 1/20\n",
      "1260/1260 [==============================] - 22s - loss: 0.7240 - acc: 0.4960 - val_loss: 0.6953 - val_acc: 0.4076\n",
      "Epoch 2/20\n",
      "1260/1260 [==============================] - 21s - loss: 0.7012 - acc: 0.4968 - val_loss: 0.7273 - val_acc: 0.4076\n",
      "Epoch 3/20\n",
      "1260/1260 [==============================] - 23s - loss: 0.6974 - acc: 0.5000 - val_loss: 0.7352 - val_acc: 0.4076\n",
      "Epoch 4/20\n",
      "1260/1260 [==============================] - 22s - loss: 0.6980 - acc: 0.5000 - val_loss: 0.6951 - val_acc: 0.4076\n",
      "Epoch 5/20\n",
      "1260/1260 [==============================] - 22s - loss: 0.6938 - acc: 0.5246 - val_loss: 0.6794 - val_acc: 0.5924\n",
      "Epoch 6/20\n",
      "1260/1260 [==============================] - 22s - loss: 0.6957 - acc: 0.5087 - val_loss: 0.7020 - val_acc: 0.4076\n",
      "Epoch 7/20\n",
      "1260/1260 [==============================] - 22s - loss: 0.6917 - acc: 0.5278 - val_loss: 0.6884 - val_acc: 0.6561\n",
      "Epoch 8/20\n",
      "1260/1260 [==============================] - 24s - loss: 0.6866 - acc: 0.5714 - val_loss: 0.6991 - val_acc: 0.4076\n",
      "Epoch 9/20\n",
      "1260/1260 [==============================] - 22s - loss: 0.6785 - acc: 0.5905 - val_loss: 0.6803 - val_acc: 0.6624\n",
      "Epoch 10/20\n",
      "1260/1260 [==============================] - 22s - loss: 0.6683 - acc: 0.6159 - val_loss: 0.6619 - val_acc: 0.6401\n",
      "Epoch 11/20\n",
      "1260/1260 [==============================] - 22s - loss: 0.6524 - acc: 0.6619 - val_loss: 0.6557 - val_acc: 0.6688\n",
      "Epoch 12/20\n",
      "1260/1260 [==============================] - 22s - loss: 0.6089 - acc: 0.7198 - val_loss: 0.6308 - val_acc: 0.6465\n",
      "Epoch 13/20\n",
      "1260/1260 [==============================] - 22s - loss: 0.5752 - acc: 0.7333 - val_loss: 0.6603 - val_acc: 0.6338\n",
      "Epoch 14/20\n",
      "1260/1260 [==============================] - 22s - loss: 0.5337 - acc: 0.7714 - val_loss: 0.6849 - val_acc: 0.5924\n",
      "Epoch 15/20\n",
      "1260/1260 [==============================] - 22s - loss: 0.5138 - acc: 0.7690 - val_loss: 0.6958 - val_acc: 0.6178\n",
      "Epoch 16/20\n",
      "1260/1260 [==============================] - 22s - loss: 0.4976 - acc: 0.7857 - val_loss: 0.7105 - val_acc: 0.6242\n",
      "Epoch 17/20\n",
      "1260/1260 [==============================] - 22s - loss: 0.4918 - acc: 0.7786 - val_loss: 0.7102 - val_acc: 0.6401\n",
      "Epoch 18/20\n",
      "1260/1260 [==============================] - 22s - loss: 0.4794 - acc: 0.7786 - val_loss: 0.7325 - val_acc: 0.6019\n",
      "Epoch 19/20\n",
      "1260/1260 [==============================] - 22s - loss: 0.4646 - acc: 0.7865 - val_loss: 0.7822 - val_acc: 0.5732\n",
      "Epoch 20/20\n",
      "1260/1260 [==============================] - 22s - loss: 0.4516 - acc: 0.7849 - val_loss: 0.7842 - val_acc: 0.5987\n"
     ]
    },
    {
     "data": {
      "text/plain": [
       "<keras.callbacks.History at 0x291a6ecca90>"
      ]
     },
     "execution_count": 10,
     "metadata": {},
     "output_type": "execute_result"
    }
   ],
   "source": [
    "print('Training model.')\n",
    "\n",
    "model = Sequential()\n",
    "model.add(embedding_layer)\n",
    "model.add(LSTM(128, dropout_W=0.2, dropout_U=0.2, return_sequences=True)) \n",
    "model.add(LSTM(128, dropout_W=0.2, dropout_U=0.2)) \n",
    "model.add(Dense(1, activation='sigmoid'))\n",
    "\n",
    "model.compile(loss='binary_crossentropy', optimizer='adagrad', metrics=['accuracy'])\n",
    "\n",
    "model.fit(x_train, y_train, validation_data=(x_test, y_test),nb_epoch=20, batch_size=20)\n"
   ]
  },
  {
   "cell_type": "code",
   "execution_count": null,
   "metadata": {
    "collapsed": true
   },
   "outputs": [],
   "source": []
  }
 ],
 "metadata": {
  "kernelspec": {
   "display_name": "Python 3",
   "language": "python",
   "name": "python3"
  },
  "language_info": {
   "codemirror_mode": {
    "name": "ipython",
    "version": 3
   },
   "file_extension": ".py",
   "mimetype": "text/x-python",
   "name": "python",
   "nbconvert_exporter": "python",
   "pygments_lexer": "ipython3",
   "version": "3.5.2"
  }
 },
 "nbformat": 4,
 "nbformat_minor": 0
}
