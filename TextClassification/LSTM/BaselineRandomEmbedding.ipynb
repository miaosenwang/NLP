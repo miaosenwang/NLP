{
 "cells": [
  {
   "cell_type": "code",
   "execution_count": 1,
   "metadata": {
    "collapsed": false
   },
   "outputs": [
    {
     "name": "stderr",
     "output_type": "stream",
     "text": [
      "Using TensorFlow backend.\n"
     ]
    }
   ],
   "source": [
    "from keras.preprocessing.text import Tokenizer\n",
    "from keras.preprocessing.sequence import pad_sequences\n",
    "from keras.layers import Dense, Input\n",
    "from keras.layers import Embedding, LSTM\n",
    "from keras.models import Sequential\n",
    "\n",
    "import numpy as np\n",
    "import csv\n"
   ]
  },
  {
   "cell_type": "code",
   "execution_count": 2,
   "metadata": {
    "collapsed": false
   },
   "outputs": [],
   "source": [
    "TRAIN_DATA_PATH = ''\n",
    "\n",
    "SENTENCE_LENGTH = 100\n",
    "EMBEDDING_DIM = 50\n",
    "TEST_SPLIT = 0.2\n",
    "\n",
    "# Tensorflow throws OOM if trying to use the entire glove embedding, we can reduce the embedding size only to data's input\n",
    "# Embeddings that are not part of the input won't be used for training anyway\n",
    "VOCAB_SIZE = 1000"
   ]
  },
  {
   "cell_type": "code",
   "execution_count": 3,
   "metadata": {
    "collapsed": true
   },
   "outputs": [],
   "source": [
    "def loadDataSet(path):\n",
    "    label = []\n",
    "    data = []\n",
    "\n",
    "    with open(path,'r') as tsvin:\n",
    "        tsvin = csv.reader(tsvin, delimiter='\\t')\n",
    "        for row in tsvin:\n",
    "            label.append(int(row[0]))\n",
    "            data.append(row[1])\n",
    "    return data, label"
   ]
  },
  {
   "cell_type": "code",
   "execution_count": 4,
   "metadata": {
    "collapsed": true
   },
   "outputs": [],
   "source": [
    "def split(ratio, data, labels):\n",
    "    indices = np.arange(data.shape[0])\n",
    "    np.random.shuffle(indices)\n",
    "    \n",
    "    data = data[indices]\n",
    "    labels = labels[indices]\n",
    "    \n",
    "    nb_test = int(ratio * data.shape[0])\n",
    "\n",
    "    x_train = data[:-nb_test]\n",
    "    y_train = labels[:-nb_test]\n",
    "\n",
    "    x_test = data[-nb_test:]\n",
    "    y_test = labels[-nb_test:]\n",
    "    \n",
    "    return x_train, y_train, x_test, y_test"
   ]
  },
  {
   "cell_type": "code",
   "execution_count": 5,
   "metadata": {
    "collapsed": false
   },
   "outputs": [
    {
     "name": "stdout",
     "output_type": "stream",
     "text": [
      "Found 1574 training instance.\n"
     ]
    }
   ],
   "source": [
    "data_lines, data_labels = loadDataSet(TRAIN_DATA_PATH)\n",
    "\n",
    "print('Found %s training instance.' % len(data_lines))"
   ]
  },
  {
   "cell_type": "code",
   "execution_count": 6,
   "metadata": {
    "collapsed": false
   },
   "outputs": [],
   "source": [
    "# should save the tokenizer so that the text sequence is consistant\n",
    "\n",
    "tokenizer = Tokenizer(nb_words=VOCAB_SIZE)\n",
    "tokenizer.fit_on_texts(data_lines)\n",
    "data_sequences = tokenizer.texts_to_sequences(data_lines)\n",
    "data_index = tokenizer.word_index\n",
    "vocab_dim = min(VOCAB_SIZE, len(data_index))"
   ]
  },
  {
   "cell_type": "code",
   "execution_count": 7,
   "metadata": {
    "collapsed": false
   },
   "outputs": [],
   "source": [
    "data_padded = pad_sequences(data_sequences, maxlen=SENTENCE_LENGTH)\n",
    "data_labels = np.asarray(data_labels)"
   ]
  },
  {
   "cell_type": "code",
   "execution_count": 8,
   "metadata": {
    "collapsed": false
   },
   "outputs": [],
   "source": [
    "x_train, y_train, x_test, y_test = split(TEST_SPLIT, data_padded, data_labels)"
   ]
  },
  {
   "cell_type": "code",
   "execution_count": 9,
   "metadata": {
    "collapsed": false
   },
   "outputs": [],
   "source": [
    "embedding_matrix = np.random.normal(scale= 0.01, size=(vocab_dim,EMBEDDING_DIM)).reshape(vocab_dim, EMBEDDING_DIM)\n",
    "\n",
    "embedding_layer = Embedding(vocab_dim, EMBEDDING_DIM, weights=[embedding_matrix], input_length=SENTENCE_LENGTH, trainable=False)"
   ]
  },
  {
   "cell_type": "code",
   "execution_count": 10,
   "metadata": {
    "collapsed": false
   },
   "outputs": [
    {
     "name": "stdout",
     "output_type": "stream",
     "text": [
      "Training model.\n",
      "Train on 1260 samples, validate on 314 samples\n",
      "Epoch 1/20\n",
      "1260/1260 [==============================] - 26s - loss: 0.7157 - acc: 0.4992 - val_loss: 0.6930 - val_acc: 0.5159\n",
      "Epoch 2/20\n",
      "1260/1260 [==============================] - 31s - loss: 0.6965 - acc: 0.5151 - val_loss: 0.6930 - val_acc: 0.5159\n",
      "Epoch 3/20\n",
      "1260/1260 [==============================] - 27s - loss: 0.6993 - acc: 0.5095 - val_loss: 0.6937 - val_acc: 0.5159\n",
      "Epoch 4/20\n",
      "1260/1260 [==============================] - 27s - loss: 0.6955 - acc: 0.5087 - val_loss: 0.6926 - val_acc: 0.5159\n",
      "Epoch 5/20\n",
      "1260/1260 [==============================] - 28s - loss: 0.6970 - acc: 0.5063 - val_loss: 0.6930 - val_acc: 0.5159\n",
      "Epoch 6/20\n",
      "1260/1260 [==============================] - 27s - loss: 0.6936 - acc: 0.5206 - val_loss: 0.7005 - val_acc: 0.5159\n",
      "Epoch 7/20\n",
      "1260/1260 [==============================] - 25s - loss: 0.6937 - acc: 0.5214 - val_loss: 0.6929 - val_acc: 0.5159\n",
      "Epoch 8/20\n",
      "1260/1260 [==============================] - 25s - loss: 0.6925 - acc: 0.5183 - val_loss: 0.6965 - val_acc: 0.4841\n",
      "Epoch 9/20\n",
      "1260/1260 [==============================] - 26s - loss: 0.6924 - acc: 0.5175 - val_loss: 0.7056 - val_acc: 0.5159\n",
      "Epoch 10/20\n",
      "1260/1260 [==============================] - 25s - loss: 0.6933 - acc: 0.5183 - val_loss: 0.6926 - val_acc: 0.5159\n",
      "Epoch 11/20\n",
      "1260/1260 [==============================] - 26s - loss: 0.6923 - acc: 0.5190 - val_loss: 0.6934 - val_acc: 0.5159\n",
      "Epoch 12/20\n",
      "1260/1260 [==============================] - 25s - loss: 0.6937 - acc: 0.5127 - val_loss: 0.6934 - val_acc: 0.5159\n",
      "Epoch 13/20\n",
      "1260/1260 [==============================] - 26s - loss: 0.6915 - acc: 0.5214 - val_loss: 0.6945 - val_acc: 0.5159\n",
      "Epoch 14/20\n",
      "1260/1260 [==============================] - 29s - loss: 0.6931 - acc: 0.5254 - val_loss: 0.6930 - val_acc: 0.5159\n",
      "Epoch 15/20\n",
      "1260/1260 [==============================] - 25s - loss: 0.6936 - acc: 0.5151 - val_loss: 0.6925 - val_acc: 0.5159\n",
      "Epoch 16/20\n",
      "1260/1260 [==============================] - 25s - loss: 0.6909 - acc: 0.5310 - val_loss: 0.6930 - val_acc: 0.5159\n",
      "Epoch 17/20\n",
      "1260/1260 [==============================] - 28s - loss: 0.6933 - acc: 0.5254 - val_loss: 0.6928 - val_acc: 0.5159\n",
      "Epoch 18/20\n",
      "1260/1260 [==============================] - 25s - loss: 0.6919 - acc: 0.5206 - val_loss: 0.6929 - val_acc: 0.5159\n",
      "Epoch 19/20\n",
      "1260/1260 [==============================] - 25s - loss: 0.6915 - acc: 0.5254 - val_loss: 0.6925 - val_acc: 0.5159\n",
      "Epoch 20/20\n",
      "1260/1260 [==============================] - 25s - loss: 0.6923 - acc: 0.5143 - val_loss: 0.6962 - val_acc: 0.5159\n"
     ]
    },
    {
     "data": {
      "text/plain": [
       "<keras.callbacks.History at 0x1e949e25940>"
      ]
     },
     "execution_count": 10,
     "metadata": {},
     "output_type": "execute_result"
    }
   ],
   "source": [
    "print('Training model.')\n",
    "\n",
    "model = Sequential()\n",
    "model.add(embedding_layer)\n",
    "model.add(LSTM(128, dropout_W=0.2, dropout_U=0.2, return_sequences=True)) \n",
    "model.add(LSTM(128, dropout_W=0.2, dropout_U=0.2)) \n",
    "model.add(Dense(1, activation='sigmoid'))\n",
    "\n",
    "model.compile(loss='binary_crossentropy', optimizer='adagrad', metrics=['accuracy'])\n",
    "\n",
    "model.fit(x_train, y_train, validation_data=(x_test, y_test),nb_epoch=20, batch_size=20)\n"
   ]
  },
  {
   "cell_type": "code",
   "execution_count": null,
   "metadata": {
    "collapsed": true
   },
   "outputs": [],
   "source": []
  }
 ],
 "metadata": {
  "kernelspec": {
   "display_name": "Python 3",
   "language": "python",
   "name": "python3"
  },
  "language_info": {
   "codemirror_mode": {
    "name": "ipython",
    "version": 3
   },
   "file_extension": ".py",
   "mimetype": "text/x-python",
   "name": "python",
   "nbconvert_exporter": "python",
   "pygments_lexer": "ipython3",
   "version": "3.5.2"
  }
 },
 "nbformat": 4,
 "nbformat_minor": 0
}
