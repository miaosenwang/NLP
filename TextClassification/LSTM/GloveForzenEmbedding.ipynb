{
 "cells": [
  {
   "cell_type": "code",
   "execution_count": 1,
   "metadata": {
    "collapsed": false
   },
   "outputs": [
    {
     "name": "stderr",
     "output_type": "stream",
     "text": [
      "Using TensorFlow backend.\n"
     ]
    }
   ],
   "source": [
    "from keras.preprocessing.text import Tokenizer\n",
    "from keras.preprocessing.sequence import pad_sequences\n",
    "from keras.layers import Dense, Input\n",
    "from keras.layers import Embedding, LSTM\n",
    "from keras.models import Sequential\n",
    "\n",
    "import numpy as np\n",
    "import csv\n"
   ]
  },
  {
   "cell_type": "code",
   "execution_count": 2,
   "metadata": {
    "collapsed": false
   },
   "outputs": [],
   "source": [
    "GLOVE_PATH = ''\n",
    "TRAIN_DATA_PATH = ''\n",
    "\n",
    "SENTENCE_LENGTH = 100\n",
    "EMBEDDING_DIM = 50\n",
    "TEST_SPLIT = 0.2\n",
    "\n",
    "# Tensorflow throws OOM if trying to use the entire glove embedding, we can reduce the embedding size only to data's input\n",
    "# Embeddings that are not part of the input won't be used for training anyway\n",
    "VOCAB_SIZE = 1000"
   ]
  },
  {
   "cell_type": "code",
   "execution_count": 3,
   "metadata": {
    "collapsed": true
   },
   "outputs": [],
   "source": [
    "def loadGlove(path):\n",
    "    embeddings_index = {}\n",
    "    with open(path, \"r\", encoding=\"utf8\") as glovef:\n",
    "        for line in glovef:\n",
    "            values = line.split()\n",
    "            word = values[0]\n",
    "            coefs = np.asarray(values[1:], dtype='float32')\n",
    "            embeddings_index[word] = coefs\n",
    "\n",
    "    print('Found %s word vectors.' % len(embeddings_index))\n",
    "    return embeddings_index"
   ]
  },
  {
   "cell_type": "code",
   "execution_count": 4,
   "metadata": {
    "collapsed": true
   },
   "outputs": [],
   "source": [
    "def loadDataSet(path):\n",
    "    label = []\n",
    "    data = []\n",
    "\n",
    "    with open(path,'r') as tsvin:\n",
    "        tsvin = csv.reader(tsvin, delimiter='\\t')\n",
    "        for row in tsvin:\n",
    "            label.append(int(row[0]))\n",
    "            data.append(row[1])\n",
    "    return data, label"
   ]
  },
  {
   "cell_type": "code",
   "execution_count": 5,
   "metadata": {
    "collapsed": true
   },
   "outputs": [],
   "source": [
    "def split(ratio, data, labels):\n",
    "    indices = np.arange(data.shape[0])\n",
    "    np.random.shuffle(indices)\n",
    "    \n",
    "    data = data[indices]\n",
    "    labels = labels[indices]\n",
    "    \n",
    "    nb_test = int(ratio * data.shape[0])\n",
    "\n",
    "    x_train = data[:-nb_test]\n",
    "    y_train = labels[:-nb_test]\n",
    "\n",
    "    x_test = data[-nb_test:]\n",
    "    y_test = labels[-nb_test:]\n",
    "    \n",
    "    return x_train, y_train, x_test, y_test"
   ]
  },
  {
   "cell_type": "code",
   "execution_count": 6,
   "metadata": {
    "collapsed": false
   },
   "outputs": [
    {
     "name": "stdout",
     "output_type": "stream",
     "text": [
      "Found 400000 word vectors.\n",
      "Found 1574 training instance.\n"
     ]
    }
   ],
   "source": [
    "embeddings_table = loadGlove(GLOVE_PATH)\n",
    "data_lines, data_labels = loadDataSet(TRAIN_DATA_PATH)\n",
    "\n",
    "print('Found %s training instance.' % len(data_lines))"
   ]
  },
  {
   "cell_type": "code",
   "execution_count": 7,
   "metadata": {
    "collapsed": false
   },
   "outputs": [],
   "source": [
    "# should save the tokenizer so that the text sequence is consistant\n",
    "\n",
    "tokenizer = Tokenizer(nb_words=VOCAB_SIZE)\n",
    "tokenizer.fit_on_texts(data_lines)\n",
    "data_sequences = tokenizer.texts_to_sequences(data_lines)\n",
    "data_index = tokenizer.word_index\n",
    "vocab_dim = min(VOCAB_SIZE, len(data_index))"
   ]
  },
  {
   "cell_type": "code",
   "execution_count": 8,
   "metadata": {
    "collapsed": false
   },
   "outputs": [],
   "source": [
    "data_padded = pad_sequences(data_sequences, maxlen=SENTENCE_LENGTH)\n",
    "data_labels = np.asarray(data_labels)"
   ]
  },
  {
   "cell_type": "code",
   "execution_count": 9,
   "metadata": {
    "collapsed": false
   },
   "outputs": [],
   "source": [
    "x_train, y_train, x_test, y_test = split(TEST_SPLIT, data_padded, data_labels)"
   ]
  },
  {
   "cell_type": "code",
   "execution_count": 10,
   "metadata": {
    "collapsed": false
   },
   "outputs": [],
   "source": [
    "embedding_matrix = np.zeros((vocab_dim, EMBEDDING_DIM))\n",
    "\n",
    "for word, i in data_index.items():\n",
    "    if i < vocab_dim: \n",
    "        embedding_vector = embeddings_table.get(word)\n",
    "\n",
    "        if embedding_vector is not None:\n",
    "            embedding_matrix[i] = embedding_vector\n",
    "\n",
    "embedding_layer = Embedding(vocab_dim, EMBEDDING_DIM, weights=[embedding_matrix], input_length=SENTENCE_LENGTH, trainable=False)"
   ]
  },
  {
   "cell_type": "code",
   "execution_count": 11,
   "metadata": {
    "collapsed": false
   },
   "outputs": [
    {
     "name": "stdout",
     "output_type": "stream",
     "text": [
      "Training model.\n",
      "Train on 1260 samples, validate on 314 samples\n",
      "Epoch 1/20\n",
      "1260/1260 [==============================] - 25s - loss: 0.6990 - acc: 0.5500 - val_loss: 0.6939 - val_acc: 0.5414\n",
      "Epoch 2/20\n",
      "1260/1260 [==============================] - 25s - loss: 0.6611 - acc: 0.5937 - val_loss: 0.6320 - val_acc: 0.6274\n",
      "Epoch 3/20\n",
      "1260/1260 [==============================] - 25s - loss: 0.6298 - acc: 0.6460 - val_loss: 0.6715 - val_acc: 0.6019\n",
      "Epoch 4/20\n",
      "1260/1260 [==============================] - 25s - loss: 0.6156 - acc: 0.6548 - val_loss: 0.6079 - val_acc: 0.6401\n",
      "Epoch 5/20\n",
      "1260/1260 [==============================] - 25s - loss: 0.5932 - acc: 0.6810 - val_loss: 0.5829 - val_acc: 0.7006\n",
      "Epoch 6/20\n",
      "1260/1260 [==============================] - 26s - loss: 0.5860 - acc: 0.6730 - val_loss: 0.5700 - val_acc: 0.7038\n",
      "Epoch 7/20\n",
      "1260/1260 [==============================] - 25s - loss: 0.5825 - acc: 0.6857 - val_loss: 0.5709 - val_acc: 0.6911\n",
      "Epoch 8/20\n",
      "1260/1260 [==============================] - 25s - loss: 0.5721 - acc: 0.6810 - val_loss: 0.5902 - val_acc: 0.6847\n",
      "Epoch 9/20\n",
      "1260/1260 [==============================] - 25s - loss: 0.5602 - acc: 0.6952 - val_loss: 0.5622 - val_acc: 0.6815\n",
      "Epoch 10/20\n",
      "1260/1260 [==============================] - 25s - loss: 0.5551 - acc: 0.6992 - val_loss: 0.5556 - val_acc: 0.6879\n",
      "Epoch 11/20\n",
      "1260/1260 [==============================] - 25s - loss: 0.5459 - acc: 0.6992 - val_loss: 0.5472 - val_acc: 0.6847\n",
      "Epoch 12/20\n",
      "1260/1260 [==============================] - 25s - loss: 0.5429 - acc: 0.7032 - val_loss: 0.5435 - val_acc: 0.6752\n",
      "Epoch 13/20\n",
      "1260/1260 [==============================] - 25s - loss: 0.5254 - acc: 0.7167 - val_loss: 0.5408 - val_acc: 0.7102\n",
      "Epoch 14/20\n",
      "1260/1260 [==============================] - 25s - loss: 0.5337 - acc: 0.7127 - val_loss: 0.5382 - val_acc: 0.6975\n",
      "Epoch 15/20\n",
      "1260/1260 [==============================] - 25s - loss: 0.5224 - acc: 0.7254 - val_loss: 0.5346 - val_acc: 0.7102\n",
      "Epoch 16/20\n",
      "1260/1260 [==============================] - 25s - loss: 0.5284 - acc: 0.7135 - val_loss: 0.5330 - val_acc: 0.7038\n",
      "Epoch 17/20\n",
      "1260/1260 [==============================] - 25s - loss: 0.4956 - acc: 0.7556 - val_loss: 0.5290 - val_acc: 0.7134\n",
      "Epoch 18/20\n",
      "1260/1260 [==============================] - 26s - loss: 0.4921 - acc: 0.7579 - val_loss: 0.5464 - val_acc: 0.7102\n",
      "Epoch 19/20\n",
      "1260/1260 [==============================] - 25s - loss: 0.5034 - acc: 0.7325 - val_loss: 0.5305 - val_acc: 0.7038\n",
      "Epoch 20/20\n",
      "1260/1260 [==============================] - 25s - loss: 0.4921 - acc: 0.7460 - val_loss: 0.5311 - val_acc: 0.7102\n"
     ]
    },
    {
     "data": {
      "text/plain": [
       "<keras.callbacks.History at 0x2048d84bfd0>"
      ]
     },
     "execution_count": 11,
     "metadata": {},
     "output_type": "execute_result"
    }
   ],
   "source": [
    "print('Training model.')\n",
    "\n",
    "model = Sequential()\n",
    "model.add(embedding_layer)\n",
    "model.add(LSTM(128, dropout_W=0.2, dropout_U=0.2, return_sequences=True)) \n",
    "model.add(LSTM(128, dropout_W=0.2, dropout_U=0.2)) \n",
    "model.add(Dense(1, activation='sigmoid'))\n",
    "\n",
    "model.compile(loss='binary_crossentropy', optimizer='adagrad', metrics=['accuracy'])\n",
    "\n",
    "model.fit(x_train, y_train, validation_data=(x_test, y_test),nb_epoch=20, batch_size=20)\n"
   ]
  },
  {
   "cell_type": "code",
   "execution_count": null,
   "metadata": {
    "collapsed": true
   },
   "outputs": [],
   "source": []
  }
 ],
 "metadata": {
  "kernelspec": {
   "display_name": "Python 3",
   "language": "python",
   "name": "python3"
  },
  "language_info": {
   "codemirror_mode": {
    "name": "ipython",
    "version": 3
   },
   "file_extension": ".py",
   "mimetype": "text/x-python",
   "name": "python",
   "nbconvert_exporter": "python",
   "pygments_lexer": "ipython3",
   "version": "3.5.2"
  }
 },
 "nbformat": 4,
 "nbformat_minor": 0
}
