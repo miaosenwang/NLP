{
 "cells": [
  {
   "cell_type": "code",
   "execution_count": 1,
   "metadata": {
    "collapsed": false
   },
   "outputs": [
    {
     "name": "stderr",
     "output_type": "stream",
     "text": [
      "Using TensorFlow backend.\n"
     ]
    }
   ],
   "source": [
    "from keras.preprocessing.text import Tokenizer\n",
    "from keras.preprocessing.sequence import pad_sequences\n",
    "from keras.layers import Dense, Input\n",
    "from keras.layers import Embedding, LSTM\n",
    "from keras.models import Sequential\n",
    "\n",
    "import numpy as np\n",
    "import csv\n"
   ]
  },
  {
   "cell_type": "code",
   "execution_count": 9,
   "metadata": {
    "collapsed": false
   },
   "outputs": [],
   "source": [
    "GLOVE_PATH = ''\n",
    "TRAIN_DATA_PATH = ''\n",
    "\n",
    "SENTENCE_LENGTH = 100\n",
    "EMBEDDING_DIM = 50\n",
    "TEST_SPLIT = 0.2\n",
    "\n",
    "# Tensorflow throws OOM if trying to use the entire glove embedding, we can reduce the embedding size only to data's input\n",
    "# Embeddings that are not part of the input won't be used for training anyway\n",
    "VOCAB_SIZE = 1000"
   ]
  },
  {
   "cell_type": "code",
   "execution_count": 3,
   "metadata": {
    "collapsed": true
   },
   "outputs": [],
   "source": [
    "def loadGlove(path):\n",
    "    embeddings_index = {}\n",
    "    with open(path, \"r\", encoding=\"utf8\") as glovef:\n",
    "        for line in glovef:\n",
    "            values = line.split()\n",
    "            word = values[0]\n",
    "            coefs = np.asarray(values[1:], dtype='float32')\n",
    "            embeddings_index[word] = coefs\n",
    "\n",
    "    print('Found %s word vectors.' % len(embeddings_index))\n",
    "    return embeddings_index"
   ]
  },
  {
   "cell_type": "code",
   "execution_count": 4,
   "metadata": {
    "collapsed": true
   },
   "outputs": [],
   "source": [
    "def loadDataSet(path):\n",
    "    label = []\n",
    "    data = []\n",
    "\n",
    "    with open(path,'r') as tsvin:\n",
    "        tsvin = csv.reader(tsvin, delimiter='\\t')\n",
    "        for row in tsvin:\n",
    "            label.append(int(row[0]))\n",
    "            data.append(row[1])\n",
    "    return data, label"
   ]
  },
  {
   "cell_type": "code",
   "execution_count": 5,
   "metadata": {
    "collapsed": true
   },
   "outputs": [],
   "source": [
    "def split(ratio, data, labels):\n",
    "    indices = np.arange(data.shape[0])\n",
    "    np.random.shuffle(indices)\n",
    "    \n",
    "    data = data[indices]\n",
    "    labels = labels[indices]\n",
    "    \n",
    "    nb_test = int(ratio * data.shape[0])\n",
    "\n",
    "    x_train = data[:-nb_test]\n",
    "    y_train = labels[:-nb_test]\n",
    "\n",
    "    x_test = data[-nb_test:]\n",
    "    y_test = labels[-nb_test:]\n",
    "    \n",
    "    return x_train, y_train, x_test, y_test"
   ]
  },
  {
   "cell_type": "code",
   "execution_count": 6,
   "metadata": {
    "collapsed": false
   },
   "outputs": [
    {
     "name": "stdout",
     "output_type": "stream",
     "text": [
      "Found 400000 word vectors.\n",
      "Found 1574 training instance.\n"
     ]
    }
   ],
   "source": [
    "embeddings_table = loadGlove(GLOVE_PATH)\n",
    "data_lines, data_labels = loadDataSet(TRAIN_DATA_PATH)\n",
    "\n",
    "print('Found %s training instance.' % len(data_lines))"
   ]
  },
  {
   "cell_type": "code",
   "execution_count": 10,
   "metadata": {
    "collapsed": false
   },
   "outputs": [],
   "source": [
    "# should save the tokenizer so that the text sequence is consistant\n",
    "\n",
    "tokenizer = Tokenizer(nb_words=VOCAB_SIZE)\n",
    "tokenizer.fit_on_texts(data_lines)\n",
    "data_sequences = tokenizer.texts_to_sequences(data_lines)\n",
    "data_index = tokenizer.word_index\n",
    "vocab_dim = min(VOCAB_SIZE, len(data_index))"
   ]
  },
  {
   "cell_type": "code",
   "execution_count": 11,
   "metadata": {
    "collapsed": false
   },
   "outputs": [],
   "source": [
    "data_padded = pad_sequences(data_sequences, maxlen=SENTENCE_LENGTH)\n",
    "data_labels = np.asarray(data_labels)"
   ]
  },
  {
   "cell_type": "code",
   "execution_count": 12,
   "metadata": {
    "collapsed": false
   },
   "outputs": [],
   "source": [
    "x_train, y_train, x_test, y_test = split(TEST_SPLIT, data_padded, data_labels)"
   ]
  },
  {
   "cell_type": "code",
   "execution_count": 17,
   "metadata": {
    "collapsed": false
   },
   "outputs": [],
   "source": [
    "embedding_matrix = np.zeros((vocab_dim, EMBEDDING_DIM))\n",
    "\n",
    "for word, i in data_index.items():\n",
    "    if i < vocab_dim: \n",
    "        embedding_vector = embeddings_table.get(word)\n",
    "\n",
    "        if embedding_vector is not None:\n",
    "            embedding_matrix[i] = embedding_vector\n",
    "\n",
    "embedding_layer = Embedding(vocab_dim, EMBEDDING_DIM, weights=[embedding_matrix], input_length=SENTENCE_LENGTH, trainable=True)"
   ]
  },
  {
   "cell_type": "code",
   "execution_count": 20,
   "metadata": {
    "collapsed": false
   },
   "outputs": [
    {
     "name": "stdout",
     "output_type": "stream",
     "text": [
      "Training model.\n",
      "Train on 1260 samples, validate on 314 samples\n",
      "Epoch 1/20\n",
      "1260/1260 [==============================] - 26s - loss: 0.5344 - acc: 0.7333 - val_loss: 0.8779 - val_acc: 0.7261\n",
      "Epoch 2/20\n",
      "1260/1260 [==============================] - 26s - loss: 0.3449 - acc: 0.8524 - val_loss: 0.5704 - val_acc: 0.7834\n",
      "Epoch 3/20\n",
      "1260/1260 [==============================] - 25s - loss: 0.3002 - acc: 0.8722 - val_loss: 0.6210 - val_acc: 0.7739\n",
      "Epoch 4/20\n",
      "1260/1260 [==============================] - 25s - loss: 0.2648 - acc: 0.8929 - val_loss: 0.5679 - val_acc: 0.7739\n",
      "Epoch 5/20\n",
      "1260/1260 [==============================] - 25s - loss: 0.2487 - acc: 0.8992 - val_loss: 0.5663 - val_acc: 0.7803\n",
      "Epoch 6/20\n",
      "1260/1260 [==============================] - 25s - loss: 0.2203 - acc: 0.9159 - val_loss: 0.6343 - val_acc: 0.7930\n",
      "Epoch 7/20\n",
      "1260/1260 [==============================] - 26s - loss: 0.1929 - acc: 0.9302 - val_loss: 0.6893 - val_acc: 0.7898\n",
      "Epoch 8/20\n",
      "1260/1260 [==============================] - 25s - loss: 0.2010 - acc: 0.9294 - val_loss: 0.6712 - val_acc: 0.7771\n",
      "Epoch 9/20\n",
      "1260/1260 [==============================] - 25s - loss: 0.1772 - acc: 0.9333 - val_loss: 0.6653 - val_acc: 0.7739\n",
      "Epoch 10/20\n",
      "1260/1260 [==============================] - 26s - loss: 0.1752 - acc: 0.9405 - val_loss: 0.6586 - val_acc: 0.7803\n",
      "Epoch 11/20\n",
      "1260/1260 [==============================] - 25s - loss: 0.1597 - acc: 0.9365 - val_loss: 0.7125 - val_acc: 0.7771\n",
      "Epoch 12/20\n",
      "1260/1260 [==============================] - 25s - loss: 0.1488 - acc: 0.9452 - val_loss: 0.7316 - val_acc: 0.7866\n",
      "Epoch 13/20\n",
      "1260/1260 [==============================] - 27s - loss: 0.1455 - acc: 0.9508 - val_loss: 0.7408 - val_acc: 0.7771\n",
      "Epoch 14/20\n",
      "1260/1260 [==============================] - 25s - loss: 0.1290 - acc: 0.9500 - val_loss: 0.7937 - val_acc: 0.7803\n",
      "Epoch 15/20\n",
      "1260/1260 [==============================] - 29s - loss: 0.1272 - acc: 0.9571 - val_loss: 0.7801 - val_acc: 0.7898\n",
      "Epoch 16/20\n",
      "1260/1260 [==============================] - 27s - loss: 0.1136 - acc: 0.9579 - val_loss: 0.7661 - val_acc: 0.7803\n",
      "Epoch 17/20\n",
      "1260/1260 [==============================] - 25s - loss: 0.1231 - acc: 0.9540 - val_loss: 0.8462 - val_acc: 0.7866\n",
      "Epoch 18/20\n",
      "1260/1260 [==============================] - 26s - loss: 0.1087 - acc: 0.9587 - val_loss: 0.8406 - val_acc: 0.7930\n",
      "Epoch 19/20\n",
      "1260/1260 [==============================] - 25s - loss: 0.1064 - acc: 0.9563 - val_loss: 0.8370 - val_acc: 0.7866\n",
      "Epoch 20/20\n",
      "1260/1260 [==============================] - 26s - loss: 0.1012 - acc: 0.9627 - val_loss: 0.9312 - val_acc: 0.7834\n"
     ]
    },
    {
     "data": {
      "text/plain": [
       "<keras.callbacks.History at 0x289509c5470>"
      ]
     },
     "execution_count": 20,
     "metadata": {},
     "output_type": "execute_result"
    }
   ],
   "source": [
    "print('Training model.')\n",
    "\n",
    "model = Sequential()\n",
    "model.add(embedding_layer)\n",
    "model.add(LSTM(128, dropout_W=0.2, dropout_U=0.2, return_sequences=True)) \n",
    "model.add(LSTM(128, dropout_W=0.2, dropout_U=0.2)) \n",
    "model.add(Dense(1, activation='sigmoid'))\n",
    "\n",
    "model.compile(loss='binary_crossentropy', optimizer='adagrad', metrics=['accuracy'])\n",
    "\n",
    "model.fit(x_train, y_train, validation_data=(x_test, y_test),nb_epoch=20, batch_size=20)\n"
   ]
  },
  {
   "cell_type": "code",
   "execution_count": null,
   "metadata": {
    "collapsed": true
   },
   "outputs": [],
   "source": [
    "model.save('MeetingIntentLSTM.pkl')"
   ]
  }
 ],
 "metadata": {
  "kernelspec": {
   "display_name": "Python 3",
   "language": "python",
   "name": "python3"
  },
  "language_info": {
   "codemirror_mode": {
    "name": "ipython",
    "version": 3
   },
   "file_extension": ".py",
   "mimetype": "text/x-python",
   "name": "python",
   "nbconvert_exporter": "python",
   "pygments_lexer": "ipython3",
   "version": "3.5.2"
  }
 },
 "nbformat": 4,
 "nbformat_minor": 0
}
